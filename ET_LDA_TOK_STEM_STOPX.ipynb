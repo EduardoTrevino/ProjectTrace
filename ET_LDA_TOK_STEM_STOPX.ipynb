{
 "cells": [
  {
   "cell_type": "code",
   "execution_count": 1,
   "metadata": {},
   "outputs": [],
   "source": [
    "# Imports\n",
    "import pandas as pd\n",
    "import nltk\n",
    "from gensim import corpora, models\n",
    "from nltk.tokenize import RegexpTokenizer\n",
    "from nltk.corpus import stopwords\n",
    "from nltk.stem.porter import PorterStemmer\n"
   ]
  },
  {
   "cell_type": "code",
   "execution_count": 5,
   "metadata": {},
   "outputs": [
    {
     "name": "stdout",
     "output_type": "stream",
     "text": [
      "Number of data frames: 1\n"
     ]
    }
   ],
   "source": [
    "# Load the NIHdata from CSV files\n",
    "csv_files = ['NIHdata/NIH_CCF.csv', 'NIHdata/NIH_CICI.csv', 'NIHdata/NIH_CSSI.csv']\n",
    "data_frames = []\n",
    "for file in csv_files:\n",
    "    df = pd.read_csv(file)\n",
    "    # Keep only the relevant columns (abstracts and titles)\n",
    "    df = df[['Project Title', 'Project Abstract']]\n",
    "    # Merge the data frames\n",
    "    data_frames.append(df)\n",
    "print('Number of data frames: {}'.format(len(data_frames))) # This will be 3 because we have 3 CSV files (CCF, CICI, CSSI)"
   ]
  }
 ],
 "metadata": {
  "kernelspec": {
   "display_name": "ocv4",
   "language": "python",
   "name": "python3"
  },
  "language_info": {
   "codemirror_mode": {
    "name": "ipython",
    "version": 3
   },
   "file_extension": ".py",
   "mimetype": "text/x-python",
   "name": "python",
   "nbconvert_exporter": "python",
   "pygments_lexer": "ipython3",
   "version": "3.10.0"
  },
  "orig_nbformat": 4
 },
 "nbformat": 4,
 "nbformat_minor": 2
}
